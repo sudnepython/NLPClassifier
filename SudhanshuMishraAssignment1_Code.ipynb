{
  "cells": [
    {
      "cell_type": "markdown",
      "source": [
        "## Connecting Google Drive To load the saved Data"
      ],
      "metadata": {
        "id": "9J4fqX8b7UTd"
      }
    },
    {
      "cell_type": "code",
      "execution_count": 1,
      "metadata": {
        "colab": {
          "base_uri": "https://localhost:8080/"
        },
        "id": "kgxdTBbQjvb6",
        "outputId": "26af83f9-ace5-411f-8b76-4d604f9ab96d"
      },
      "outputs": [
        {
          "output_type": "stream",
          "name": "stdout",
          "text": [
            "Drive already mounted at /content/drive; to attempt to forcibly remount, call drive.mount(\"/content/drive\", force_remount=True).\n"
          ]
        }
      ],
      "source": [
        "#Mounting the Colab diretory\n",
        "from google.colab import drive\n",
        "my_path = '/content/drive'\n",
        "drive.mount(my_path)"
      ]
    },
    {
      "cell_type": "markdown",
      "source": [
        "## Loading the Data converting JSON to DataFrame"
      ],
      "metadata": {
        "id": "SZoXVDxZ7P__"
      }
    },
    {
      "cell_type": "code",
      "execution_count": 2,
      "metadata": {
        "colab": {
          "base_uri": "https://localhost:8080/"
        },
        "id": "w3-1LOCej4sf",
        "outputId": "22576466-1dfb-450d-c52e-164323f5ce09"
      },
      "outputs": [
        {
          "output_type": "execute_result",
          "data": {
            "text/plain": [
              "(5000, 2)"
            ]
          },
          "metadata": {},
          "execution_count": 2
        }
      ],
      "source": [
        "# converting datafile into a pandas dataframe\n",
        "file = open(\"/content/drive/MyDrive/CIS_509/political_orientation_data.json\", \"r\") # replace this path to open a data file\n",
        "import pandas as pd\n",
        "import numpy as np\n",
        "import tensorflow as tf\n",
        "from sklearn.feature_extraction.text import TfidfVectorizer\n",
        "df = pd.read_json(file,lines=True) # representing data as a panda dataframe\n",
        "#df.head()\n",
        "df.shape"
      ]
    },
    {
      "cell_type": "code",
      "execution_count": 3,
      "metadata": {
        "colab": {
          "base_uri": "https://localhost:8080/",
          "height": 206
        },
        "id": "czyh26BlkI5F",
        "outputId": "31468dd3-7322-41f0-d07d-261009d5bfe8"
      },
      "outputs": [
        {
          "output_type": "execute_result",
          "data": {
            "text/plain": [
              "                                                text         label\n",
              "0  50 Years On, The Feminist Press Is Radical and...       Liberal\n",
              "1  Anti-worker bills are working their way throug...       Liberal\n",
              "2  The FBI Seized Almost $1 Million From This Fam...  Conservative\n",
              "3  Stephanie Grisham’s Book Details Trump’s ‘Terr...       Liberal\n",
              "4                               How Trump kept peace  Conservative"
            ],
            "text/html": [
              "\n",
              "  <div id=\"df-8318379f-b7fb-4c03-a37d-e29ea7b4d961\">\n",
              "    <div class=\"colab-df-container\">\n",
              "      <div>\n",
              "<style scoped>\n",
              "    .dataframe tbody tr th:only-of-type {\n",
              "        vertical-align: middle;\n",
              "    }\n",
              "\n",
              "    .dataframe tbody tr th {\n",
              "        vertical-align: top;\n",
              "    }\n",
              "\n",
              "    .dataframe thead th {\n",
              "        text-align: right;\n",
              "    }\n",
              "</style>\n",
              "<table border=\"1\" class=\"dataframe\">\n",
              "  <thead>\n",
              "    <tr style=\"text-align: right;\">\n",
              "      <th></th>\n",
              "      <th>text</th>\n",
              "      <th>label</th>\n",
              "    </tr>\n",
              "  </thead>\n",
              "  <tbody>\n",
              "    <tr>\n",
              "      <th>0</th>\n",
              "      <td>50 Years On, The Feminist Press Is Radical and...</td>\n",
              "      <td>Liberal</td>\n",
              "    </tr>\n",
              "    <tr>\n",
              "      <th>1</th>\n",
              "      <td>Anti-worker bills are working their way throug...</td>\n",
              "      <td>Liberal</td>\n",
              "    </tr>\n",
              "    <tr>\n",
              "      <th>2</th>\n",
              "      <td>The FBI Seized Almost $1 Million From This Fam...</td>\n",
              "      <td>Conservative</td>\n",
              "    </tr>\n",
              "    <tr>\n",
              "      <th>3</th>\n",
              "      <td>Stephanie Grisham’s Book Details Trump’s ‘Terr...</td>\n",
              "      <td>Liberal</td>\n",
              "    </tr>\n",
              "    <tr>\n",
              "      <th>4</th>\n",
              "      <td>How Trump kept peace</td>\n",
              "      <td>Conservative</td>\n",
              "    </tr>\n",
              "  </tbody>\n",
              "</table>\n",
              "</div>\n",
              "      <button class=\"colab-df-convert\" onclick=\"convertToInteractive('df-8318379f-b7fb-4c03-a37d-e29ea7b4d961')\"\n",
              "              title=\"Convert this dataframe to an interactive table.\"\n",
              "              style=\"display:none;\">\n",
              "        \n",
              "  <svg xmlns=\"http://www.w3.org/2000/svg\" height=\"24px\"viewBox=\"0 0 24 24\"\n",
              "       width=\"24px\">\n",
              "    <path d=\"M0 0h24v24H0V0z\" fill=\"none\"/>\n",
              "    <path d=\"M18.56 5.44l.94 2.06.94-2.06 2.06-.94-2.06-.94-.94-2.06-.94 2.06-2.06.94zm-11 1L8.5 8.5l.94-2.06 2.06-.94-2.06-.94L8.5 2.5l-.94 2.06-2.06.94zm10 10l.94 2.06.94-2.06 2.06-.94-2.06-.94-.94-2.06-.94 2.06-2.06.94z\"/><path d=\"M17.41 7.96l-1.37-1.37c-.4-.4-.92-.59-1.43-.59-.52 0-1.04.2-1.43.59L10.3 9.45l-7.72 7.72c-.78.78-.78 2.05 0 2.83L4 21.41c.39.39.9.59 1.41.59.51 0 1.02-.2 1.41-.59l7.78-7.78 2.81-2.81c.8-.78.8-2.07 0-2.86zM5.41 20L4 18.59l7.72-7.72 1.47 1.35L5.41 20z\"/>\n",
              "  </svg>\n",
              "      </button>\n",
              "      \n",
              "  <style>\n",
              "    .colab-df-container {\n",
              "      display:flex;\n",
              "      flex-wrap:wrap;\n",
              "      gap: 12px;\n",
              "    }\n",
              "\n",
              "    .colab-df-convert {\n",
              "      background-color: #E8F0FE;\n",
              "      border: none;\n",
              "      border-radius: 50%;\n",
              "      cursor: pointer;\n",
              "      display: none;\n",
              "      fill: #1967D2;\n",
              "      height: 32px;\n",
              "      padding: 0 0 0 0;\n",
              "      width: 32px;\n",
              "    }\n",
              "\n",
              "    .colab-df-convert:hover {\n",
              "      background-color: #E2EBFA;\n",
              "      box-shadow: 0px 1px 2px rgba(60, 64, 67, 0.3), 0px 1px 3px 1px rgba(60, 64, 67, 0.15);\n",
              "      fill: #174EA6;\n",
              "    }\n",
              "\n",
              "    [theme=dark] .colab-df-convert {\n",
              "      background-color: #3B4455;\n",
              "      fill: #D2E3FC;\n",
              "    }\n",
              "\n",
              "    [theme=dark] .colab-df-convert:hover {\n",
              "      background-color: #434B5C;\n",
              "      box-shadow: 0px 1px 3px 1px rgba(0, 0, 0, 0.15);\n",
              "      filter: drop-shadow(0px 1px 2px rgba(0, 0, 0, 0.3));\n",
              "      fill: #FFFFFF;\n",
              "    }\n",
              "  </style>\n",
              "\n",
              "      <script>\n",
              "        const buttonEl =\n",
              "          document.querySelector('#df-8318379f-b7fb-4c03-a37d-e29ea7b4d961 button.colab-df-convert');\n",
              "        buttonEl.style.display =\n",
              "          google.colab.kernel.accessAllowed ? 'block' : 'none';\n",
              "\n",
              "        async function convertToInteractive(key) {\n",
              "          const element = document.querySelector('#df-8318379f-b7fb-4c03-a37d-e29ea7b4d961');\n",
              "          const dataTable =\n",
              "            await google.colab.kernel.invokeFunction('convertToInteractive',\n",
              "                                                     [key], {});\n",
              "          if (!dataTable) return;\n",
              "\n",
              "          const docLinkHtml = 'Like what you see? Visit the ' +\n",
              "            '<a target=\"_blank\" href=https://colab.research.google.com/notebooks/data_table.ipynb>data table notebook</a>'\n",
              "            + ' to learn more about interactive tables.';\n",
              "          element.innerHTML = '';\n",
              "          dataTable['output_type'] = 'display_data';\n",
              "          await google.colab.output.renderOutput(dataTable, element);\n",
              "          const docLink = document.createElement('div');\n",
              "          docLink.innerHTML = docLinkHtml;\n",
              "          element.appendChild(docLink);\n",
              "        }\n",
              "      </script>\n",
              "    </div>\n",
              "  </div>\n",
              "  "
            ]
          },
          "metadata": {},
          "execution_count": 3
        }
      ],
      "source": [
        "df.head(5)"
      ]
    },
    {
      "cell_type": "markdown",
      "source": [
        "## Vectorize the Text using TFIDF Max Features = 10000"
      ],
      "metadata": {
        "id": "Kfc-PU1W7JF5"
      }
    },
    {
      "cell_type": "code",
      "execution_count": 4,
      "metadata": {
        "id": "VV7zk-mzlc7-"
      },
      "outputs": [],
      "source": [
        " # we can use TFKeras built-in vectorizer but scikit-learn's vectorizer is more straightforward\n",
        "review_corpus = [] # store all reviews here so that we can fit the vectorizer with this dataset\n",
        "y = []\n",
        "count = 0\n",
        "for index, row in df.iterrows():\n",
        "  review_text = row['text'] \n",
        "  if row['label'] == \"Liberal\":\n",
        "    label = 1 # Liberal\n",
        "  else:\n",
        "    label = 0 # Conservative\n",
        "  review_corpus.append(review_text)\n",
        "  y.append(label)\n",
        "  count += 1\n",
        "  if count == 5000:\n",
        "    break\n",
        "vectorizer = TfidfVectorizer(max_features=10000) # the value of max_features is dependent on how you design your model\n",
        "vectorizer.fit(review_corpus) # fit the vectorizer with the entire dataset\n",
        "# once we fitted the vectorizer, we use it for converting raw text (review) into vectors\n",
        "vectorized_review = vectorizer.transform(review_corpus)"
      ]
    },
    {
      "cell_type": "code",
      "source": [
        "vectorized_review"
      ],
      "metadata": {
        "colab": {
          "base_uri": "https://localhost:8080/"
        },
        "id": "C1yd5JHkSA1u",
        "outputId": "7b24049a-a454-483a-9d97-88d622762761"
      },
      "execution_count": 5,
      "outputs": [
        {
          "output_type": "execute_result",
          "data": {
            "text/plain": [
              "<5000x10000 sparse matrix of type '<class 'numpy.float64'>'\n",
              "\twith 58528 stored elements in Compressed Sparse Row format>"
            ]
          },
          "metadata": {},
          "execution_count": 5
        }
      ]
    },
    {
      "cell_type": "markdown",
      "source": [
        "### Shape after vectorized"
      ],
      "metadata": {
        "id": "enzIAzoo7GM5"
      }
    },
    {
      "cell_type": "code",
      "execution_count": 6,
      "metadata": {
        "colab": {
          "base_uri": "https://localhost:8080/"
        },
        "id": "Olo_y71ImCtH",
        "outputId": "f6dd18dc-42de-477e-d231-9a64b19f0d94"
      },
      "outputs": [
        {
          "output_type": "stream",
          "name": "stdout",
          "text": [
            "(5000, 10000)\n",
            "<class 'scipy.sparse.csr.csr_matrix'>\n"
          ]
        }
      ],
      "source": [
        "print(vectorized_review.shape)\n",
        "print(type(vectorized_review))\n",
        "import numpy as np\n",
        "X, Y = vectorized_review.toarray(), np.asarray(y) # convert both input (vectorized_review) and output (y) into numpy variables so that a TFkeras model can understand them"
      ]
    },
    {
      "cell_type": "markdown",
      "source": [
        "## Visualising the Layers"
      ],
      "metadata": {
        "id": "EvlGIbTv7BUP"
      }
    },
    {
      "cell_type": "code",
      "execution_count": 7,
      "metadata": {
        "colab": {
          "base_uri": "https://localhost:8080/",
          "height": 862
        },
        "id": "UlJdUPoLmamF",
        "outputId": "9c2acec7-ed72-40fa-86f4-e6465c01dec6"
      },
      "outputs": [
        {
          "output_type": "stream",
          "name": "stdout",
          "text": [
            "Model: \"ANN_two_hidden_layer\"\n",
            "_________________________________________________________________\n",
            " Layer (type)                Output Shape              Param #   \n",
            "=================================================================\n",
            " input_layer (InputLayer)    [(None, 10000)]           0         \n",
            "                                                                 \n",
            " hidden_layer1 (Dense)       (None, 5000)              50005000  \n",
            "                                                                 \n",
            " hidden_layer2 (Dense)       (None, 2500)              12502500  \n",
            "                                                                 \n",
            " output_layer (Dense)        (None, 1)                 2501      \n",
            "                                                                 \n",
            "=================================================================\n",
            "Total params: 62,510,001\n",
            "Trainable params: 62,510,001\n",
            "Non-trainable params: 0\n",
            "_________________________________________________________________\n"
          ]
        },
        {
          "output_type": "execute_result",
          "data": {
            "text/plain": [
              "<IPython.core.display.Image object>"
            ],
            "image/png": "[encoded data removed]"
          },
          "metadata": {},
          "execution_count": 7
        }
      ],
      "source": [
        "\n",
        "input_layer = tf.keras.Input(shape=10000, name=\"input_layer\")\n",
        "hidden_layer1 = tf.keras.layers.Dense(units=5000, activation=\"relu\", name=\"hidden_layer1\")(input_layer)\n",
        "hidden_layer2 = tf.keras.layers.Dense(units=2500, activation=\"relu\", name=\"hidden_layer2\")(hidden_layer1)\n",
        "output_layer = tf.keras.layers.Dense(units=1, activation=\"sigmoid\", name=\"output_layer\")(hidden_layer2)\n",
        "model = tf.keras.Model(inputs=input_layer, outputs=output_layer, name=\"ANN_two_hidden_layer\")\n",
        "model.compile(loss=\"binary_crossentropy\", optimizer=\"SGD\", metrics=[tf.keras.metrics.BinaryAccuracy(name=\"accuracy\")]) #tracking only accuracy\n",
        "model.summary()\n",
        "tf.keras.utils.plot_model(model,\n",
        "    show_shapes=True,\n",
        "    show_dtype=True,\n",
        "    show_layer_names=True,\n",
        "    rankdir='TB',\n",
        "    expand_nested=True,\n",
        "    dpi=100,\n",
        "    layer_range=None,\n",
        "    show_layer_activations=True)"
      ]
    },
    {
      "cell_type": "markdown",
      "source": [
        "## Fitting the Model \n",
        "#### Note: Run it on GPU for speed"
      ],
      "metadata": {
        "id": "nUkwgDRu66zT"
      }
    },
    {
      "cell_type": "code",
      "execution_count": 8,
      "metadata": {
        "id": "YU7X5weNmbn_"
      },
      "outputs": [],
      "source": [
        "# model.fit(x=X, y=Y, epochs=30, batch_size=8, validation_split=0.25)"
      ]
    },
    {
      "cell_type": "code",
      "source": [
        "filepath = \"/content/drive/MyDrive/CIS_509/ANN_Model2\"\n",
        "cp_callback = tf.keras.callbacks.ModelCheckpoint(filepath=filepath, save_best_only=True, monitor=\"val_accuracy\", mode=\"max\", verbose=1) # Saves only the best model (i.e., for each epoch during training, save model only if the current version outperforms the previous version)\n",
        "history = model.fit(x=X, y=Y, epochs=30, batch_size=8, validation_split=0.25, callbacks=cp_callback)"
      ],
      "metadata": {
        "colab": {
          "base_uri": "https://localhost:8080/"
        },
        "id": "IpxwbNBBA20C",
        "outputId": "b4b94de3-4cde-4692-b816-f545d7092313"
      },
      "execution_count": 9,
      "outputs": [
        {
          "output_type": "stream",
          "name": "stdout",
          "text": [
            "Epoch 1/30\n",
            "468/469 [============================>.] - ETA: 0s - loss: 0.6575 - accuracy: 0.6485\n",
            "Epoch 1: val_accuracy improved from -inf to 0.64320, saving model to /content/drive/MyDrive/CIS_509/ANN_Model2\n",
            "INFO:tensorflow:Assets written to: /content/drive/MyDrive/CIS_509/ANN_Model2/assets\n",
            "469/469 [==============================] - 18s 30ms/step - loss: 0.6576 - accuracy: 0.6483 - val_loss: 0.6513 - val_accuracy: 0.6432\n",
            "Epoch 2/30\n",
            "466/469 [============================>.] - ETA: 0s - loss: 0.6477 - accuracy: 0.6483\n",
            "Epoch 2: val_accuracy did not improve from 0.64320\n",
            "469/469 [==============================] - 8s 17ms/step - loss: 0.6473 - accuracy: 0.6491 - val_loss: 0.6507 - val_accuracy: 0.6432\n",
            "Epoch 3/30\n",
            "469/469 [==============================] - ETA: 0s - loss: 0.6463 - accuracy: 0.6491\n",
            "Epoch 3: val_accuracy did not improve from 0.64320\n",
            "469/469 [==============================] - 8s 17ms/step - loss: 0.6463 - accuracy: 0.6491 - val_loss: 0.6503 - val_accuracy: 0.6432\n",
            "Epoch 4/30\n",
            "468/469 [============================>.] - ETA: 0s - loss: 0.6452 - accuracy: 0.6493\n",
            "Epoch 4: val_accuracy did not improve from 0.64320\n",
            "469/469 [==============================] - 7s 16ms/step - loss: 0.6454 - accuracy: 0.6491 - val_loss: 0.6498 - val_accuracy: 0.6432\n",
            "Epoch 5/30\n",
            "467/469 [============================>.] - ETA: 0s - loss: 0.6439 - accuracy: 0.6494\n",
            "Epoch 5: val_accuracy did not improve from 0.64320\n",
            "469/469 [==============================] - 8s 17ms/step - loss: 0.6441 - accuracy: 0.6491 - val_loss: 0.6493 - val_accuracy: 0.6432\n",
            "Epoch 6/30\n",
            "467/469 [============================>.] - ETA: 0s - loss: 0.6428 - accuracy: 0.6496\n",
            "Epoch 6: val_accuracy did not improve from 0.64320\n",
            "469/469 [==============================] - 7s 16ms/step - loss: 0.6432 - accuracy: 0.6491 - val_loss: 0.6487 - val_accuracy: 0.6432\n",
            "Epoch 7/30\n",
            "468/469 [============================>.] - ETA: 0s - loss: 0.6420 - accuracy: 0.6490\n",
            "Epoch 7: val_accuracy did not improve from 0.64320\n",
            "469/469 [==============================] - 8s 16ms/step - loss: 0.6420 - accuracy: 0.6491 - val_loss: 0.6481 - val_accuracy: 0.6432\n",
            "Epoch 8/30\n",
            "469/469 [==============================] - ETA: 0s - loss: 0.6405 - accuracy: 0.6491\n",
            "Epoch 8: val_accuracy did not improve from 0.64320\n",
            "469/469 [==============================] - 8s 16ms/step - loss: 0.6405 - accuracy: 0.6491 - val_loss: 0.6471 - val_accuracy: 0.6432\n",
            "Epoch 9/30\n",
            "467/469 [============================>.] - ETA: 0s - loss: 0.6390 - accuracy: 0.6488\n",
            "Epoch 9: val_accuracy did not improve from 0.64320\n",
            "469/469 [==============================] - 8s 16ms/step - loss: 0.6389 - accuracy: 0.6491 - val_loss: 0.6462 - val_accuracy: 0.6432\n",
            "Epoch 10/30\n",
            "467/469 [============================>.] - ETA: 0s - loss: 0.6369 - accuracy: 0.6488\n",
            "Epoch 10: val_accuracy did not improve from 0.64320\n",
            "469/469 [==============================] - 9s 20ms/step - loss: 0.6368 - accuracy: 0.6491 - val_loss: 0.6449 - val_accuracy: 0.6432\n",
            "Epoch 11/30\n",
            "468/469 [============================>.] - ETA: 0s - loss: 0.6344 - accuracy: 0.6490\n",
            "Epoch 11: val_accuracy did not improve from 0.64320\n",
            "469/469 [==============================] - 8s 18ms/step - loss: 0.6344 - accuracy: 0.6491 - val_loss: 0.6436 - val_accuracy: 0.6432\n",
            "Epoch 12/30\n",
            "468/469 [============================>.] - ETA: 0s - loss: 0.6319 - accuracy: 0.6485\n",
            "Epoch 12: val_accuracy did not improve from 0.64320\n",
            "469/469 [==============================] - 8s 17ms/step - loss: 0.6315 - accuracy: 0.6491 - val_loss: 0.6416 - val_accuracy: 0.6432\n",
            "Epoch 13/30\n",
            "467/469 [============================>.] - ETA: 0s - loss: 0.6278 - accuracy: 0.6491\n",
            "Epoch 13: val_accuracy did not improve from 0.64320\n",
            "469/469 [==============================] - 8s 17ms/step - loss: 0.6278 - accuracy: 0.6491 - val_loss: 0.6390 - val_accuracy: 0.6432\n",
            "Epoch 14/30\n",
            "469/469 [==============================] - ETA: 0s - loss: 0.6232 - accuracy: 0.6491\n",
            "Epoch 14: val_accuracy did not improve from 0.64320\n",
            "469/469 [==============================] - 7s 16ms/step - loss: 0.6232 - accuracy: 0.6491 - val_loss: 0.6378 - val_accuracy: 0.6432\n",
            "Epoch 15/30\n",
            "467/469 [============================>.] - ETA: 0s - loss: 0.6174 - accuracy: 0.6496\n",
            "Epoch 15: val_accuracy improved from 0.64320 to 0.64400, saving model to /content/drive/MyDrive/CIS_509/ANN_Model2\n",
            "INFO:tensorflow:Assets written to: /content/drive/MyDrive/CIS_509/ANN_Model2/assets\n",
            "469/469 [==============================] - 10s 21ms/step - loss: 0.6176 - accuracy: 0.6491 - val_loss: 0.6326 - val_accuracy: 0.6440\n",
            "Epoch 16/30\n",
            "468/469 [============================>.] - ETA: 0s - loss: 0.6103 - accuracy: 0.6496\n",
            "Epoch 16: val_accuracy did not improve from 0.64400\n",
            "469/469 [==============================] - 7s 16ms/step - loss: 0.6104 - accuracy: 0.6493 - val_loss: 0.6277 - val_accuracy: 0.6432\n",
            "Epoch 17/30\n",
            "467/469 [============================>.] - ETA: 0s - loss: 0.6011 - accuracy: 0.6523\n",
            "Epoch 17: val_accuracy improved from 0.64400 to 0.64560, saving model to /content/drive/MyDrive/CIS_509/ANN_Model2\n",
            "INFO:tensorflow:Assets written to: /content/drive/MyDrive/CIS_509/ANN_Model2/assets\n",
            "469/469 [==============================] - 10s 21ms/step - loss: 0.6012 - accuracy: 0.6523 - val_loss: 0.6219 - val_accuracy: 0.6456\n",
            "Epoch 18/30\n",
            "467/469 [============================>.] - ETA: 0s - loss: 0.5894 - accuracy: 0.6619\n",
            "Epoch 18: val_accuracy improved from 0.64560 to 0.65120, saving model to /content/drive/MyDrive/CIS_509/ANN_Model2\n",
            "INFO:tensorflow:Assets written to: /content/drive/MyDrive/CIS_509/ANN_Model2/assets\n",
            "469/469 [==============================] - 10s 21ms/step - loss: 0.5899 - accuracy: 0.6613 - val_loss: 0.6152 - val_accuracy: 0.6512\n",
            "Epoch 19/30\n",
            "466/469 [============================>.] - ETA: 0s - loss: 0.5763 - accuracy: 0.6749\n",
            "Epoch 19: val_accuracy did not improve from 0.65120\n",
            "469/469 [==============================] - 7s 16ms/step - loss: 0.5755 - accuracy: 0.6760 - val_loss: 0.6129 - val_accuracy: 0.6512\n",
            "Epoch 20/30\n",
            "469/469 [==============================] - ETA: 0s - loss: 0.5583 - accuracy: 0.6989\n",
            "Epoch 20: val_accuracy improved from 0.65120 to 0.68160, saving model to /content/drive/MyDrive/CIS_509/ANN_Model2\n",
            "INFO:tensorflow:Assets written to: /content/drive/MyDrive/CIS_509/ANN_Model2/assets\n",
            "469/469 [==============================] - 9s 20ms/step - loss: 0.5583 - accuracy: 0.6989 - val_loss: 0.5974 - val_accuracy: 0.6816\n",
            "Epoch 21/30\n",
            "466/469 [============================>.] - ETA: 0s - loss: 0.5383 - accuracy: 0.7253\n",
            "Epoch 21: val_accuracy improved from 0.68160 to 0.69360, saving model to /content/drive/MyDrive/CIS_509/ANN_Model2\n",
            "INFO:tensorflow:Assets written to: /content/drive/MyDrive/CIS_509/ANN_Model2/assets\n",
            "469/469 [==============================] - 10s 21ms/step - loss: 0.5383 - accuracy: 0.7251 - val_loss: 0.5865 - val_accuracy: 0.6936\n",
            "Epoch 22/30\n",
            "466/469 [============================>.] - ETA: 0s - loss: 0.5144 - accuracy: 0.7476\n",
            "Epoch 22: val_accuracy did not improve from 0.69360\n",
            "469/469 [==============================] - 8s 17ms/step - loss: 0.5142 - accuracy: 0.7477 - val_loss: 0.5865 - val_accuracy: 0.6776\n",
            "Epoch 23/30\n",
            "466/469 [============================>.] - ETA: 0s - loss: 0.4881 - accuracy: 0.7685\n",
            "Epoch 23: val_accuracy improved from 0.69360 to 0.71520, saving model to /content/drive/MyDrive/CIS_509/ANN_Model2\n",
            "INFO:tensorflow:Assets written to: /content/drive/MyDrive/CIS_509/ANN_Model2/assets\n",
            "469/469 [==============================] - 10s 21ms/step - loss: 0.4887 - accuracy: 0.7680 - val_loss: 0.5672 - val_accuracy: 0.7152\n",
            "Epoch 24/30\n",
            "466/469 [============================>.] - ETA: 0s - loss: 0.4624 - accuracy: 0.7948\n",
            "Epoch 24: val_accuracy did not improve from 0.71520\n",
            "469/469 [==============================] - 7s 16ms/step - loss: 0.4618 - accuracy: 0.7955 - val_loss: 0.5615 - val_accuracy: 0.7144\n",
            "Epoch 25/30\n",
            "466/469 [============================>.] - ETA: 0s - loss: 0.4329 - accuracy: 0.8130\n",
            "Epoch 25: val_accuracy improved from 0.71520 to 0.71920, saving model to /content/drive/MyDrive/CIS_509/ANN_Model2\n",
            "INFO:tensorflow:Assets written to: /content/drive/MyDrive/CIS_509/ANN_Model2/assets\n",
            "469/469 [==============================] - 10s 22ms/step - loss: 0.4329 - accuracy: 0.8125 - val_loss: 0.5567 - val_accuracy: 0.7192\n",
            "Epoch 26/30\n",
            "468/469 [============================>.] - ETA: 0s - loss: 0.4031 - accuracy: 0.8333\n",
            "Epoch 26: val_accuracy improved from 0.71920 to 0.72960, saving model to /content/drive/MyDrive/CIS_509/ANN_Model2\n",
            "INFO:tensorflow:Assets written to: /content/drive/MyDrive/CIS_509/ANN_Model2/assets\n",
            "469/469 [==============================] - 9s 20ms/step - loss: 0.4029 - accuracy: 0.8336 - val_loss: 0.5489 - val_accuracy: 0.7296\n",
            "Epoch 27/30\n",
            "467/469 [============================>.] - ETA: 0s - loss: 0.3751 - accuracy: 0.8565\n",
            "Epoch 27: val_accuracy did not improve from 0.72960\n",
            "469/469 [==============================] - 8s 16ms/step - loss: 0.3752 - accuracy: 0.8565 - val_loss: 0.5464 - val_accuracy: 0.7248\n",
            "Epoch 28/30\n",
            "467/469 [============================>.] - ETA: 0s - loss: 0.3443 - accuracy: 0.8686\n",
            "Epoch 28: val_accuracy did not improve from 0.72960\n",
            "469/469 [==============================] - 8s 18ms/step - loss: 0.3450 - accuracy: 0.8680 - val_loss: 0.5493 - val_accuracy: 0.7264\n",
            "Epoch 29/30\n",
            "468/469 [============================>.] - ETA: 0s - loss: 0.3165 - accuracy: 0.8873\n",
            "Epoch 29: val_accuracy improved from 0.72960 to 0.73200, saving model to /content/drive/MyDrive/CIS_509/ANN_Model2\n",
            "INFO:tensorflow:Assets written to: /content/drive/MyDrive/CIS_509/ANN_Model2/assets\n",
            "469/469 [==============================] - 9s 20ms/step - loss: 0.3165 - accuracy: 0.8875 - val_loss: 0.5455 - val_accuracy: 0.7320\n",
            "Epoch 30/30\n",
            "468/469 [============================>.] - ETA: 0s - loss: 0.2902 - accuracy: 0.9009\n",
            "Epoch 30: val_accuracy did not improve from 0.73200\n",
            "469/469 [==============================] - 8s 16ms/step - loss: 0.2902 - accuracy: 0.9008 - val_loss: 0.5756 - val_accuracy: 0.7288\n"
          ]
        }
      ]
    },
    {
      "cell_type": "markdown",
      "source": [
        "## Save The Model into a Folder"
      ],
      "metadata": {
        "id": "YepAvP_o6skn"
      }
    },
    {
      "cell_type": "code",
      "execution_count": 10,
      "metadata": {
        "id": "FV8ldtZlmdod"
      },
      "outputs": [],
      "source": [
        "model.save(\"/content/drive/MyDrive/CIS_509/ANN_Model2\")"
      ]
    },
    {
      "cell_type": "code",
      "execution_count": 11,
      "metadata": {
        "id": "BUEDlDEGyAtp"
      },
      "outputs": [],
      "source": [
        "New_Data = [\"Anarcho-capitalism, in my opinion, is a doctrinal system which, if ever implemented, would lead to forms of tyranny and oppression that have few counterparts in human history.\",\"Biden's Response to Putin's Invasion of Ukraine Has Been His Finest Moment\"]"
      ]
    },
    {
      "cell_type": "markdown",
      "source": [
        "## Load the Model"
      ],
      "metadata": {
        "id": "XWLVOkI96wwr"
      }
    },
    {
      "cell_type": "code",
      "execution_count": 12,
      "metadata": {
        "id": "FM0JmDOjylrk"
      },
      "outputs": [],
      "source": [
        "#load your model here\n",
        "new_model = tf.keras.models.load_model(\"/content/drive/MyDrive/CIS_509/ANN_Model2\")"
      ]
    },
    {
      "cell_type": "markdown",
      "source": [
        "## Vectorize the new data and predict using the loaded model"
      ],
      "metadata": {
        "id": "xEr4pBV96zP9"
      }
    },
    {
      "cell_type": "code",
      "execution_count": 13,
      "metadata": {
        "colab": {
          "base_uri": "https://localhost:8080/"
        },
        "id": "XrZzsaWnyQ0B",
        "outputId": "f078a821-1787-4d20-e0d3-36d89a0c4dac"
      },
      "outputs": [
        {
          "output_type": "execute_result",
          "data": {
            "text/plain": [
              "array([[0.54902565],\n",
              "       [0.03790431]], dtype=float32)"
            ]
          },
          "metadata": {},
          "execution_count": 13
        }
      ],
      "source": [
        "vectorized_new_data = vectorizer.transform(New_Data)\n",
        "new_x = vectorized_new_data.toarray()\n",
        "\n",
        "new_model.predict(new_x)"
      ]
    },
    {
      "cell_type": "markdown",
      "source": [
        "### Visualizing the Model Loss and Accuracy"
      ],
      "metadata": {
        "id": "yr6Apn91jY49"
      }
    },
    {
      "cell_type": "code",
      "source": [
        "from matplotlib import pyplot as plt\n",
        "\n",
        "plt.plot(history.history['accuracy'])\n",
        "plt.plot(history.history['val_accuracy'])\n",
        "plt.title('model accuracy')\n",
        "plt.ylabel('accuracy')\n",
        "plt.xlabel('epoch')\n",
        "plt.legend(['train', 'val'], loc='upper left')\n",
        "plt.show()"
      ],
      "metadata": {
        "colab": {
          "base_uri": "https://localhost:8080/",
          "height": 295
        },
        "id": "gxpIbeJGC4B5",
        "outputId": "4badf311-bf50-4c0e-ece9-0f259f905fdf"
      },
      "execution_count": 14,
      "outputs": [
        {
          "output_type": "display_data",
          "data": {
            "text/plain": [
              "<Figure size 432x288 with 1 Axes>"
            ],
            "image/png": "[encoded data removed]"
          },
          "metadata": {
            "needs_background": "light"
          }
        }
      ]
    },
    {
      "cell_type": "code",
      "source": [
        "plt.plot(history.history['loss'])\n",
        "plt.plot(history.history['val_loss'])\n",
        "plt.title('model loss')\n",
        "plt.ylabel('loss')\n",
        "plt.xlabel('epoch')\n",
        "plt.legend(['train', 'val'], loc='upper left')\n",
        "plt.show()"
      ],
      "metadata": {
        "colab": {
          "base_uri": "https://localhost:8080/",
          "height": 295
        },
        "id": "mNoMaTu4LBJN",
        "outputId": "d321cc3c-ebcc-45f9-8a93-c3b9eb53ff29"
      },
      "execution_count": 15,
      "outputs": [
        {
          "output_type": "display_data",
          "data": {
            "text/plain": [
              "<Figure size 432x288 with 1 Axes>"
            ],
            "image/png": "[encoded data removed]"
          },
          "metadata": {
            "needs_background": "light"
          }
        }
      ]
    }
  ],
  "metadata": {
    "accelerator": "GPU",
    "colab": {
      "name": "SudhanshuMishraAssignment1",
      "provenance": [],
      "collapsed_sections": []
    },
    "kernelspec": {
      "display_name": "Python 3",
      "name": "python3"
    },
    "language_info": {
      "name": "python"
    }
  },
  "nbformat": 4,
  "nbformat_minor": 0
}